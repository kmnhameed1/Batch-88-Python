{
 "cells": [
  {
   "cell_type": "code",
   "execution_count": 1,
   "id": "ea03fd09-41f8-447b-a31e-31ee42ceb190",
   "metadata": {},
   "outputs": [
    {
     "name": "stdout",
     "output_type": "stream",
     "text": [
      "hello\n"
     ]
    }
   ],
   "source": [
    "print(\"hello\")"
   ]
  },
  {
   "cell_type": "code",
   "execution_count": 2,
   "id": "1f6091fc-96d7-4ac3-a022-7ff33ac9ca61",
   "metadata": {},
   "outputs": [
    {
     "name": "stdout",
     "output_type": "stream",
     "text": [
      "<class 'int'>\n"
     ]
    }
   ],
   "source": [
    "x = 5\n",
    "print(type(x))"
   ]
  },
  {
   "cell_type": "code",
   "execution_count": 4,
   "id": "039724cd-e4a3-40cc-8d29-4e2192de63f4",
   "metadata": {},
   "outputs": [],
   "source": [
    "x = \"123\"\n",
    "y = int(x) "
   ]
  },
  {
   "cell_type": "code",
   "execution_count": 6,
   "id": "9430df95-6ab6-4198-bf4e-754ffc6afa7e",
   "metadata": {},
   "outputs": [
    {
     "name": "stdin",
     "output_type": "stream",
     "text": [
      "What is your name?  Hameed\n",
      "How old are you?  42\n"
     ]
    },
    {
     "name": "stdout",
     "output_type": "stream",
     "text": [
      "Hello Hameed you are 42 years old.\n"
     ]
    }
   ],
   "source": [
    "name = input(\"What is your name? \")\n",
    "age = int(input(\"How old are you? \"))\n",
    "print(\"Hello\", name, \"you are\", age, \"years old.\")"
   ]
  },
  {
   "cell_type": "code",
   "execution_count": 7,
   "id": "6235d04f-9223-4555-b8a7-98bdd2cc77f4",
   "metadata": {},
   "outputs": [
    {
     "data": {
      "text/plain": [
       "42"
      ]
     },
     "execution_count": 7,
     "metadata": {},
     "output_type": "execute_result"
    }
   ],
   "source": [
    "age"
   ]
  },
  {
   "cell_type": "code",
   "execution_count": 9,
   "id": "0e94e320-8887-4f29-ab10-24d35aeb4fae",
   "metadata": {},
   "outputs": [
    {
     "data": {
      "text/plain": [
       "'Hameed'"
      ]
     },
     "execution_count": 9,
     "metadata": {},
     "output_type": "execute_result"
    }
   ],
   "source": [
    "name"
   ]
  },
  {
   "cell_type": "code",
   "execution_count": 10,
   "id": "91fbfcc6-8035-4782-b475-ab31b0f7450c",
   "metadata": {},
   "outputs": [
    {
     "name": "stdout",
     "output_type": "stream",
     "text": [
      "123 123\n"
     ]
    }
   ],
   "source": [
    "x = \"123\"\n",
    "y = int(x) \n",
    "print(x,y)"
   ]
  },
  {
   "cell_type": "code",
   "execution_count": 12,
   "id": "3d224da8-f2ea-4337-8ba1-d05345632446",
   "metadata": {},
   "outputs": [
    {
     "name": "stdout",
     "output_type": "stream",
     "text": [
      "hellp\n"
     ]
    }
   ],
   "source": [
    "s = \"hellp\"\n",
    "print(s)"
   ]
  },
  {
   "cell_type": "code",
   "execution_count": 14,
   "id": "57e64c1a-62d7-4488-b61d-75191a367f42",
   "metadata": {},
   "outputs": [
    {
     "name": "stdout",
     "output_type": "stream",
     "text": [
      "True\n"
     ]
    }
   ],
   "source": [
    "d = True\n",
    "print(d)"
   ]
  },
  {
   "cell_type": "code",
   "execution_count": 26,
   "id": "5e178685-a126-4144-a41e-d5d6bdf07156",
   "metadata": {},
   "outputs": [
    {
     "ename": "SyntaxError",
     "evalue": "invalid syntax. Perhaps you forgot a comma? (913593413.py, line 4)",
     "output_type": "error",
     "traceback": [
      "\u001b[1;36m  Cell \u001b[1;32mIn[26], line 4\u001b[1;36m\u001b[0m\n\u001b[1;33m    print(\"My name is \"+myname\",\"+\"I am \"+age+\"years old\")\u001b[0m\n\u001b[1;37m          ^\u001b[0m\n\u001b[1;31mSyntaxError\u001b[0m\u001b[1;31m:\u001b[0m invalid syntax. Perhaps you forgot a comma?\n"
     ]
    }
   ],
   "source": [
    "myname = \"Hameed\"\n",
    "age = 43\n",
    "height = 5.9\n",
    "print(\"My name is \"+myname\",\"+\"I am \"+age+\"years old\")"
   ]
  },
  {
   "cell_type": "code",
   "execution_count": 25,
   "id": "730f640d-c7d2-4b46-94e8-4d5f5220d72f",
   "metadata": {},
   "outputs": [
    {
     "name": "stdout",
     "output_type": "stream",
     "text": [
      "My name is Hameed, I am 42 years old, and I am 5.9 feet tall.\n"
     ]
    }
   ],
   "source": [
    "print(f\"My name is {name}, I am {age} years old, and I am {height} feet tall.\")"
   ]
  },
  {
   "cell_type": "code",
   "execution_count": 27,
   "id": "4ad7ff89-6560-4b4c-b5e9-f8f99f7d69c6",
   "metadata": {},
   "outputs": [
    {
     "name": "stdout",
     "output_type": "stream",
     "text": [
      "<class 'str'>\n"
     ]
    }
   ],
   "source": [
    "a=\"hello\"\n",
    "b=32\n",
    "c=True\n",
    "d=5.8\n",
    "print(type(a))"
   ]
  },
  {
   "cell_type": "code",
   "execution_count": 29,
   "id": "8a40b6ba-c1ef-4e71-9a97-764bcf013eb7",
   "metadata": {},
   "outputs": [
    {
     "ename": "SyntaxError",
     "evalue": "invalid syntax (4111853381.py, line 1)",
     "output_type": "error",
     "traceback": [
      "\u001b[1;36m  Cell \u001b[1;32mIn[29], line 1\u001b[1;36m\u001b[0m\n\u001b[1;33m    print(type(a)+:type(b))\u001b[0m\n\u001b[1;37m                  ^\u001b[0m\n\u001b[1;31mSyntaxError\u001b[0m\u001b[1;31m:\u001b[0m invalid syntax\n"
     ]
    }
   ],
   "source": [
    "print(type(a)+:type(b))"
   ]
  },
  {
   "cell_type": "code",
   "execution_count": 39,
   "id": "ffb1aecc-806a-4046-9186-694323058a6d",
   "metadata": {},
   "outputs": [
    {
     "name": "stdin",
     "output_type": "stream",
     "text": [
      "your fav color f\n",
      "your lucky no 4\n"
     ]
    },
    {
     "name": "stdout",
     "output_type": "stream",
     "text": [
      "hello fand4\n"
     ]
    }
   ],
   "source": [
    "s = input(\"your fav color\")\n",
    "a = int(input(\"your lucky no\"))\n",
    "print(f\"hello {s}and{a}\")\n"
   ]
  },
  {
   "cell_type": "code",
   "execution_count": 40,
   "id": "0e5f6517-76e0-4c5e-9b14-fe3448213438",
   "metadata": {},
   "outputs": [
    {
     "name": "stdout",
     "output_type": "stream",
     "text": [
      "Age: 25\n",
      "Age: 25\n",
      "Age: 25\n",
      "Age: 25\n"
     ]
    }
   ],
   "source": [
    "age = 25\n",
    "\n",
    "# 1. str()\n",
    "print(\"Age: \" + str(age))\n",
    "\n",
    "# 2. f-string\n",
    "print(f\"Age: {age}\")\n",
    "\n",
    "# 3. format()\n",
    "print(\"Age: {}\".format(age))\n",
    "\n",
    "# 4. print with commas\n",
    "print(\"Age:\", age)"
   ]
  },
  {
   "cell_type": "code",
   "execution_count": 41,
   "id": "56e6cb8a-b28d-4fce-87bf-6b10cfa0ceea",
   "metadata": {},
   "outputs": [
    {
     "name": "stdout",
     "output_type": "stream",
     "text": [
      "a = 10\n",
      "b = 5\n"
     ]
    }
   ],
   "source": [
    "a = 5\n",
    "b = 10\n",
    "\n",
    "a, b = b, a\n",
    "\n",
    "print(\"a =\", a)  # Output: a = 10\n",
    "print(\"b =\", b)  # Output: b = 5\n"
   ]
  },
  {
   "cell_type": "code",
   "execution_count": 44,
   "id": "f3154e85-69c9-4035-a1f0-c4dbe0a2ba4b",
   "metadata": {},
   "outputs": [
    {
     "name": "stdin",
     "output_type": "stream",
     "text": [
      "Enter the total bill amount: $ 324\n",
      "Enter the tip percentage (e.g., 15 for 15%):  32\n"
     ]
    },
    {
     "name": "stdout",
     "output_type": "stream",
     "text": [
      "Tip Amount: $103.68\n",
      "Total Amount to Pay: $427.68\n"
     ]
    }
   ],
   "source": [
    "# 1. Get the bill amount\n",
    "bill = float(input(\"Enter the total bill amount: $\"))\n",
    "\n",
    "# 2. Get the tip percentage (e.g., 10, 15, 20)\n",
    "tip_percent = float(input(\"Enter the tip percentage (e.g., 15 for 15%): \"))\n",
    "\n",
    "# 3. Calculate the tip\n",
    "tip_amount = (tip_percent / 100) * bill\n",
    "\n",
    "# 4. Calculate the total bill\n",
    "total_amount = bill + tip_amount\n",
    "\n",
    "# 5. Display the result (rounded to 2 decimal places)\n",
    "print(f\"Tip Amount: ${tip_amount:.2f}\")\n",
    "print(f\"Total Amount to Pay: ${total_amount:.2f}\")"
   ]
  },
  {
   "cell_type": "code",
   "execution_count": null,
   "id": "63db1458-67f8-4fba-860c-f2e7d5b7e92e",
   "metadata": {},
   "outputs": [],
   "source": []
  }
 ],
 "metadata": {
  "kernelspec": {
   "display_name": "Python [conda env:base] *",
   "language": "python",
   "name": "conda-base-py"
  },
  "language_info": {
   "codemirror_mode": {
    "name": "ipython",
    "version": 3
   },
   "file_extension": ".py",
   "mimetype": "text/x-python",
   "name": "python",
   "nbconvert_exporter": "python",
   "pygments_lexer": "ipython3",
   "version": "3.13.5"
  }
 },
 "nbformat": 4,
 "nbformat_minor": 5
}

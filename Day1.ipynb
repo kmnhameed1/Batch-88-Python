{
 "cells": [
  {
   "cell_type": "code",
   "execution_count": 1,
   "id": "ce8246c9-4ab8-47e1-8451-f5d1191264e6",
   "metadata": {},
   "outputs": [
    {
     "name": "stdout",
     "output_type": "stream",
     "text": [
      "Hello Word - Python Programming\n"
     ]
    }
   ],
   "source": [
    "print(\"Hello Word - Python Programming\")"
   ]
  },
  {
   "cell_type": "code",
   "execution_count": null,
   "id": "1c191915-8136-4e51-a8d5-db497816d5fa",
   "metadata": {},
   "outputs": [],
   "source": []
  },
  {
   "cell_type": "code",
   "execution_count": null,
   "id": "1c9a98cf-51d0-45fb-b7d1-dc659a625453",
   "metadata": {},
   "outputs": [],
   "source": []
  },
  {
   "cell_type": "code",
   "execution_count": null,
   "id": "29e1dc75-8658-45e8-b437-a9dccf613713",
   "metadata": {},
   "outputs": [],
   "source": []
  }
 ],
 "metadata": {
  "kernelspec": {
   "display_name": "Python 3 (ipykernel)",
   "language": "python",
   "name": "python3"
  },
  "language_info": {
   "codemirror_mode": {
    "name": "ipython",
    "version": 3
   },
   "file_extension": ".py",
   "mimetype": "text/x-python",
   "name": "python",
   "nbconvert_exporter": "python",
   "pygments_lexer": "ipython3",
   "version": "3.13.5"
  }
 },
 "nbformat": 4,
 "nbformat_minor": 5
}
